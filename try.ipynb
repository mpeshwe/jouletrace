{
 "cells": [
  {
   "cell_type": "code",
   "execution_count": 1,
   "id": "5e370a92",
   "metadata": {},
   "outputs": [],
   "source": [
    "import time\n",
    "import json\n",
    "import requests\n",
    "\n",
    "BASE_URL = \"http://127.0.0.1:8000\"\n",
    "MEASURE_URL = f\"{BASE_URL}/api/v1/measure\"\n",
    "TASK_URL = f\"{BASE_URL}/api/v1/tasks\"\n"
   ]
  },
  {
   "cell_type": "code",
   "execution_count": 2,
   "id": "a3cea53d",
   "metadata": {},
   "outputs": [],
   "source": [
    "# Simple function to square a number\n",
    "candidate_code = \"\"\"\\\n",
    "def solve(x):\n",
    "    return x * x\n",
    "\"\"\"\n",
    "\n",
    "def make_tests(x: int):\n",
    "    # Two trivial tests per job\n",
    "    return [\n",
    "        {\"test_id\": f\"t1-{x}\", \"inputs\": [x], \"expected_output\": x * x},\n",
    "        {\"test_id\": f\"t2-{x}\", \"inputs\": [x], \"expected_output\": x * x},\n",
    "    ]\n"
   ]
  },
  {
   "cell_type": "code",
   "execution_count": 3,
   "id": "4ab138fc",
   "metadata": {},
   "outputs": [],
   "source": [
    "def queue_measure(x: int, trials: int = 3, warmup: int = 1, timeout: int = 5):\n",
    "    payload = {\n",
    "        \"candidate_code\": candidate_code,\n",
    "        \"function_name\": \"solve\",\n",
    "        \"test_cases\": make_tests(x),\n",
    "        \"timeout_seconds\": timeout,\n",
    "        \"energy_measurement_trials\": trials,\n",
    "        \"warmup_trials\": warmup,\n",
    "    }\n",
    "    r = requests.post(MEASURE_URL, json=payload, timeout=30)\n",
    "    r.raise_for_status()\n",
    "    return r.json()  # contains task_id, poll_url, etc.\n"
   ]
  },
  {
   "cell_type": "code",
   "execution_count": 4,
   "id": "e1338191",
   "metadata": {},
   "outputs": [
    {
     "name": "stdout",
     "output_type": "stream",
     "text": [
      "Queued 8 tasks\n",
      "f1a42358-3652-4deb-930b-b97a3f7e2fca => 2\n",
      "2720c8ea-e042-4f38-9cea-56fbcc841d90 => 7\n",
      "791e81ee-8954-4ae4-aa4f-00311695a2c1 => 11\n",
      "5099fb65-6868-4e1c-a202-cc656af3e53e => 13\n",
      "c6183394-04ba-41fb-a3a0-6e43ab32a447 => 17\n",
      "597becf6-6351-4d6f-ae96-2ea901bd75bf => 19\n",
      "5989aa83-9422-4cbd-84a2-be6b3d00eaa1 => 23\n",
      "8f2f8119-c17e-4f53-a412-30e2434883ae => 29\n"
     ]
    }
   ],
   "source": [
    "inputs = [2, 7, 11, 13, 17, 19, 23, 29]  # adjust as desired\n",
    "queued = [queue_measure(x) for x in inputs]\n",
    "task_map = {item[\"task_id\"]: x for item, x in zip(queued, inputs)}\n",
    "\n",
    "print(f\"Queued {len(task_map)} tasks\")\n",
    "for task_id, x in task_map.items():\n",
    "    print(task_id, \"=>\", x)\n"
   ]
  },
  {
   "cell_type": "code",
   "execution_count": 5,
   "id": "6a2a7099",
   "metadata": {},
   "outputs": [],
   "source": [
    "def get_task(task_id: str):\n",
    "    r = requests.get(f\"{TASK_URL}/{task_id}\", timeout=30)\n",
    "    r.raise_for_status()\n",
    "    return r.json()\n",
    "\n",
    "def is_done(resp: dict) -> bool:\n",
    "    # API returns status: queued | running | completed | failed\n",
    "    return resp.get(\"status\") in {\"completed\", \"failed\"}\n"
   ]
  },
  {
   "cell_type": "code",
   "execution_count": 6,
   "id": "8d03f3ad",
   "metadata": {},
   "outputs": [
    {
     "name": "stdout",
     "output_type": "stream",
     "text": [
      "c6183394… status=completed\n",
      "8f2f8119… status=completed\n",
      "5099fb65… status=completed\n",
      "5989aa83… status=completed\n",
      "597becf6… status=completed\n",
      "2720c8ea… status=failed\n",
      "791e81ee… status=completed\n",
      "f1a42358… status=failed\n",
      "\n",
      "Completed 8/8\n"
     ]
    }
   ],
   "source": [
    "results = {}\n",
    "pending = set(task_map.keys())\n",
    "start = time.time()\n",
    "poll_interval = 1.0\n",
    "max_wait_seconds = 300  # 5 minutes cap\n",
    "\n",
    "while pending and (time.time() - start) < max_wait_seconds:\n",
    "    done_now = []\n",
    "    for task_id in list(pending):\n",
    "        try:\n",
    "            resp = get_task(task_id)\n",
    "            status = resp.get(\"status\")\n",
    "            print(f\"{task_id[:8]}… status={status}\")\n",
    "            if is_done(resp):\n",
    "                results[task_id] = resp\n",
    "                done_now.append(task_id)\n",
    "        except Exception as e:\n",
    "            print(f\"{task_id[:8]}… poll error: {e}\")\n",
    "    for t in done_now:\n",
    "        pending.remove(t)\n",
    "    if pending:\n",
    "        time.sleep(poll_interval)\n",
    "\n",
    "print(f\"\\nCompleted {len(results)}/{len(task_map)}\")\n",
    "if pending:\n",
    "    print(\"Still pending:\", list(pending))\n"
   ]
  },
  {
   "cell_type": "code",
   "execution_count": 7,
   "id": "1aeb0461",
   "metadata": {},
   "outputs": [
    {
     "name": "stdout",
     "output_type": "stream",
     "text": [
      "[{'error_message': 'Energy measurement failed',\n",
      "  'error_type': 'incorrect_solution',\n",
      "  'status': 'failed',\n",
      "  'task_id': 'f1a42358-3652-4deb-930b-b97a3f7e2fca',\n",
      "  'x': 2},\n",
      " {'error_message': 'Energy measurement failed',\n",
      "  'error_type': 'incorrect_solution',\n",
      "  'status': 'failed',\n",
      "  'task_id': '2720c8ea-e042-4f38-9cea-56fbcc841d90',\n",
      "  'x': 7},\n",
      " {'median_pkg_J': 1.4099999999999999e-09,\n",
      "  'median_ram_J': 1.8e-10,\n",
      "  'median_time_s': 2.2040003386791795e-06,\n",
      "  'median_total_J': 1.5899999999999999e-09,\n",
      "  'power_W': 0.0007214154971286711,\n",
      "  'status': 'completed',\n",
      "  'task_id': '791e81ee-8954-4ae4-aa4f-00311695a2c1',\n",
      "  'x': 11},\n",
      " {'median_pkg_J': 1.52e-09,\n",
      "  'median_ram_J': 1.9e-10,\n",
      "  'median_time_s': 2.3070006136549637e-06,\n",
      "  'median_total_J': 1.7099999999999999e-09,\n",
      "  'power_W': 0.0007412221695471766,\n",
      "  'status': 'completed',\n",
      "  'task_id': '5099fb65-6868-4e1c-a202-cc656af3e53e',\n",
      "  'x': 13},\n",
      " {'median_pkg_J': 1.6e-09,\n",
      "  'median_ram_J': 1.8e-10,\n",
      "  'median_time_s': 2.1670002752216533e-06,\n",
      "  'median_total_J': 1.79e-09,\n",
      "  'power_W': 0.0008260266602028505,\n",
      "  'status': 'completed',\n",
      "  'task_id': 'c6183394-04ba-41fb-a3a0-6e43ab32a447',\n",
      "  'x': 17},\n",
      " {'median_pkg_J': 1.63e-09,\n",
      "  'median_ram_J': 1.9e-10,\n",
      "  'median_time_s': 2.3740012693451717e-06,\n",
      "  'median_total_J': 1.82e-09,\n",
      "  'power_W': 0.0007666381747563329,\n",
      "  'status': 'completed',\n",
      "  'task_id': '597becf6-6351-4d6f-ae96-2ea901bd75bf',\n",
      "  'x': 19},\n",
      " {'median_pkg_J': 1.36e-09,\n",
      "  'median_ram_J': 1.8e-10,\n",
      "  'median_time_s': 2.30599835049361e-06,\n",
      "  'median_total_J': 1.54e-09,\n",
      "  'power_W': 0.000667823547952823,\n",
      "  'status': 'completed',\n",
      "  'task_id': '5989aa83-9422-4cbd-84a2-be6b3d00eaa1',\n",
      "  'x': 23},\n",
      " {'median_pkg_J': 1.44e-09,\n",
      "  'median_ram_J': 1.8e-10,\n",
      "  'median_time_s': 2.1810010366607457e-06,\n",
      "  'median_total_J': 1.62e-09,\n",
      "  'power_W': 0.0007427781889000498,\n",
      "  'status': 'completed',\n",
      "  'task_id': '8f2f8119-c17e-4f53-a412-30e2434883ae',\n",
      "  'x': 29}]\n"
     ]
    }
   ],
   "source": [
    "def pretty_energy(resp: dict):\n",
    "    em = resp.get(\"energy_metrics\") or {}\n",
    "    return {\n",
    "        \"median_pkg_J\": em.get(\"median_package_energy_joules\"),\n",
    "        \"median_ram_J\": em.get(\"median_ram_energy_joules\"),\n",
    "        \"median_total_J\": em.get(\"median_total_energy_joules\"),\n",
    "        \"median_time_s\": em.get(\"median_execution_time_seconds\"),\n",
    "        \"power_W\": em.get(\"power_consumption_watts\"),\n",
    "    }\n",
    "\n",
    "rows = []\n",
    "for task_id, x in task_map.items():\n",
    "    resp = results.get(task_id)\n",
    "    if not resp:\n",
    "        rows.append({\"task_id\": task_id, \"x\": x, \"status\": \"missing\"})\n",
    "        continue\n",
    "\n",
    "    status = resp.get(\"status\")\n",
    "    if status == \"completed\":\n",
    "        rows.append({\n",
    "            \"task_id\": task_id,\n",
    "            \"x\": x,\n",
    "            \"status\": status,\n",
    "            **pretty_energy(resp),\n",
    "        })\n",
    "    else:\n",
    "        rows.append({\n",
    "            \"task_id\": task_id,\n",
    "            \"x\": x,\n",
    "            \"status\": status,\n",
    "            \"error_type\": resp.get(\"error_type\"),\n",
    "            \"error_message\": resp.get(\"error_message\"),\n",
    "        })\n",
    "\n",
    "from pprint import pprint\n",
    "pprint(rows)\n"
   ]
  },
  {
   "cell_type": "code",
   "execution_count": 8,
   "id": "ce8be1b2",
   "metadata": {},
   "outputs": [
    {
     "name": "stdout",
     "output_type": "stream",
     "text": [
      "{'median_power_W': 0.0007420001792236132,\n",
      " 'median_time_s': 2.2549993445863947e-06,\n",
      " 'median_total_J': 1.665e-09,\n",
      " 'tasks_completed': 6}\n"
     ]
    }
   ],
   "source": [
    "import statistics as stats\n",
    "\n",
    "completed = [r for r in rows if r.get(\"status\") == \"completed\"]\n",
    "if not completed:\n",
    "    print(\"No completed tasks to summarize.\")\n",
    "else:\n",
    "    total_J = [r[\"median_total_J\"] for r in completed if r.get(\"median_total_J\") is not None]\n",
    "    time_s = [r[\"median_time_s\"] for r in completed if r.get(\"median_time_s\") is not None]\n",
    "    power_W = [r[\"power_W\"] for r in completed if r.get(\"power_W\") is not None]\n",
    "\n",
    "    summary = {\n",
    "        \"tasks_completed\": len(completed),\n",
    "        \"median_total_J\": (stats.median(total_J) if total_J else None),\n",
    "        \"median_time_s\": (stats.median(time_s) if time_s else None),\n",
    "        \"median_power_W\": (stats.median(power_W) if power_W else None),\n",
    "    }\n",
    "    pprint(summary)\n"
   ]
  },
  {
   "cell_type": "code",
   "execution_count": 43,
   "id": "76ab0ef3",
   "metadata": {},
   "outputs": [],
   "source": [
    "# Helpers + candidate implementations\n",
    "import requests, time\n",
    "from pprint import pprint\n",
    "\n",
    "try:\n",
    "    BASE_URL\n",
    "except NameError:\n",
    "    BASE_URL = \"http://127.0.0.1:8000\"\n",
    "MEASURE_URL = f\"{BASE_URL}/api/v1/measure\"\n",
    "TASK_URL = f\"{BASE_URL}/api/v1/tasks\"\n",
    "\n",
    "def fib_ref(n: int) -> int:\n",
    "    a, b = 0, 1\n",
    "    for _ in range(n):\n",
    "        a, b = b, a + b\n",
    "    return a\n",
    "\n",
    "candidate_code_fast = \"\"\"\\\n",
    "def solve(n):\n",
    "    a, b = 0, 1\n",
    "    for _ in range(n):\n",
    "        a, b = b, a + b\n",
    "    return a\n",
    "\"\"\"\n",
    "\n",
    "candidate_code_slow = \"\"\"\\\n",
    "def solve(n):\n",
    "    if n < 2:\n",
    "        return n\n",
    "    return solve(n-1) + solve(n-2)\n",
    "\"\"\"\n"
   ]
  },
  {
   "cell_type": "code",
   "execution_count": 44,
   "id": "3a6af98f",
   "metadata": {},
   "outputs": [],
   "source": [
    "def make_tests_fib(ns):\n",
    "    return [\n",
    "        {\"test_id\": f\"fib-{n}\", \"inputs\": [n], \"expected_output\": fib_ref(n)}\n",
    "        for n in ns\n",
    "    ]\n",
    "\n",
    "# Choose n values (keep slow ones modest)\n",
    "# fast_ns = [28, 32, 36]\n",
    "# slow_ns = [22, 24]  # naive recursion; keep small to avoid timeouts\n",
    "\n",
    "fast_ns = [100, 54 , 60]\n",
    "slow_ns = [100, 54 , 60]  # naive recursion; keep small to avoid timeouts\n"
   ]
  },
  {
   "cell_type": "code",
   "execution_count": 45,
   "id": "bff282c5",
   "metadata": {},
   "outputs": [],
   "source": [
    "def queue_measure_fib(candidate_code: str, ns, trials: int, warmup: int, timeout: int):\n",
    "    payload = {\n",
    "        \"candidate_code\": candidate_code,\n",
    "        \"function_name\": \"solve\",\n",
    "        \"test_cases\": make_tests_fib(ns),\n",
    "        \"timeout_seconds\": timeout,\n",
    "        \"energy_measurement_trials\": trials,\n",
    "        \"warmup_trials\": warmup,\n",
    "    }\n",
    "    r = requests.post(MEASURE_URL, json=payload, timeout=30)\n",
    "    r.raise_for_status()\n",
    "    return r.json()  # includes task_id, poll_url\n"
   ]
  },
  {
   "cell_type": "code",
   "execution_count": 46,
   "id": "3eaac1a8",
   "metadata": {},
   "outputs": [
    {
     "name": "stdout",
     "output_type": "stream",
     "text": [
      "fast => task_id: 99788410-c626-4632-a260-da678b4b73bc ns: [100, 54, 60]\n",
      "slow => task_id: 9e91b09a-76cc-45ae-a9d1-25020d2b7476 ns: [100, 54, 60]\n"
     ]
    }
   ],
   "source": [
    "jobs = {}\n",
    "jobs[\"fast\"] = {\n",
    "    \"ns\": fast_ns,\n",
    "    \"enqueue\": queue_measure_fib(candidate_code_fast, fast_ns, trials=3, warmup=1, timeout=5),\n",
    "}\n",
    "jobs[\"slow\"] = {\n",
    "    \"ns\": slow_ns,\n",
    "    \"enqueue\": queue_measure_fib(candidate_code_slow, slow_ns, trials=1, warmup=0, timeout=8),\n",
    "}\n",
    "\n",
    "for name, info in jobs.items():\n",
    "    print(name, \"=> task_id:\", info[\"enqueue\"][\"task_id\"], \"ns:\", info[\"ns\"])\n"
   ]
  },
  {
   "cell_type": "code",
   "execution_count": 41,
   "id": "87aad76a",
   "metadata": {},
   "outputs": [],
   "source": [
    "def get_task(task_id: str):\n",
    "    r = requests.get(f\"{TASK_URL}/{task_id}\", timeout=30)\n",
    "    r.raise_for_status()\n",
    "    return r.json()\n",
    "\n",
    "def is_done(resp: dict) -> bool:\n",
    "    return resp.get(\"status\") in {\"completed\", \"failed\"}\n",
    "\n",
    "def pretty_energy(resp: dict):\n",
    "    em = resp.get(\"energy_metrics\") or {}\n",
    "    return {\n",
    "        \"median_pkg_J\": em.get(\"median_package_energy_joules\"),\n",
    "        \"median_ram_J\": em.get(\"median_ram_energy_joules\"),\n",
    "        \"median_total_J\": em.get(\"median_total_energy_joules\"),\n",
    "        \"median_time_s\": em.get(\"median_execution_time_seconds\"),\n",
    "        \"power_W\": em.get(\"power_consumption_watts\"),\n",
    "    }\n"
   ]
  },
  {
   "cell_type": "code",
   "execution_count": 48,
   "id": "5e2d784b",
   "metadata": {},
   "outputs": [
    {
     "name": "stdout",
     "output_type": "stream",
     "text": [
      "fast: completed\n",
      "slow: failed\n",
      "\n",
      "Done:\n",
      "{'fast': 'completed', 'slow': 'failed'}\n"
     ]
    }
   ],
   "source": [
    "results = {}\n",
    "start = time.time()\n",
    "while set(results.keys()) != set(jobs.keys()):\n",
    "    for name, info in jobs.items():\n",
    "        if name in results:\n",
    "            continue\n",
    "        task_id = info[\"enqueue\"][\"task_id\"]\n",
    "        resp = get_task(task_id)\n",
    "        print(f\"{name}: {resp.get('status')}\")\n",
    "        if is_done(resp):\n",
    "            results[name] = resp\n",
    "    if set(results.keys()) != set(jobs.keys()):\n",
    "        time.sleep(1.0)\n",
    "\n",
    "print(\"\\nDone:\")\n",
    "pprint({k: v.get(\"status\") for k, v in results.items()})\n"
   ]
  },
  {
   "cell_type": "code",
   "execution_count": 49,
   "id": "45714c85",
   "metadata": {},
   "outputs": [
    {
     "name": "stdout",
     "output_type": "stream",
     "text": [
      "{'fast': {'median_pkg_J': 1.31e-09,\n",
      "          'median_ram_J': 1.7e-10,\n",
      "          'median_time_s': 1.2283999240025878e-05,\n",
      "          'median_total_J': 1.48e-09,\n",
      "          'ns': [100, 54, 60],\n",
      "          'power_W': 0.00012048193516469822,\n",
      "          'status': 'completed'},\n",
      " 'slow': {'error_message': 'Energy measurement failed',\n",
      "          'error_type': 'incorrect_solution',\n",
      "          'ns': [100, 54, 60],\n",
      "          'status': 'failed'}}\n"
     ]
    }
   ],
   "source": [
    "rows = {}\n",
    "for name, resp in results.items():\n",
    "    if resp.get(\"status\") == \"completed\":\n",
    "        rows[name] = {\n",
    "            \"status\": \"completed\",\n",
    "            **pretty_energy(resp),\n",
    "            \"ns\": jobs[name][\"ns\"],\n",
    "        }\n",
    "    else:\n",
    "        rows[name] = {\n",
    "            \"status\": resp.get(\"status\"),\n",
    "            \"error_type\": resp.get(\"error_type\"),\n",
    "            \"error_message\": resp.get(\"error_message\"),\n",
    "            \"ns\": jobs[name][\"ns\"],\n",
    "        }\n",
    "\n",
    "pprint(rows)\n"
   ]
  },
  {
   "cell_type": "code",
   "execution_count": 50,
   "id": "0cf10dc2",
   "metadata": {},
   "outputs": [],
   "source": [
    "# Median"
   ]
  },
  {
   "cell_type": "code",
   "execution_count": 51,
   "id": "0d80c167",
   "metadata": {},
   "outputs": [],
   "source": [
    "import time, requests\n",
    "from pprint import pprint\n",
    "\n",
    "BASE_URL = \"http://127.0.0.1:8000\"\n",
    "MEASURE_URL = f\"{BASE_URL}/api/v1/measure\"\n",
    "TASK_URL = f\"{BASE_URL}/api/v1/tasks\"\n",
    "\n",
    "def get_task(task_id: str):\n",
    "    r = requests.get(f\"{TASK_URL}/{task_id}\", timeout=30)\n",
    "    r.raise_for_status()\n",
    "    return r.json()\n",
    "\n",
    "def is_done(resp: dict) -> bool:\n",
    "    return resp.get(\"status\") in {\"completed\", \"failed\"}\n"
   ]
  },
  {
   "cell_type": "code",
   "execution_count": 62,
   "id": "9d420f1f",
   "metadata": {},
   "outputs": [],
   "source": [
    "candidate_slow_class = \"\"\"\\\n",
    "from typing import List\n",
    "\n",
    "class Solution:\n",
    "    def findMedianSortedArrays(self, nums1: List[int], nums2: List[int]) -> float:\n",
    "        merged = []\n",
    "        i = j = 0\n",
    "        while i < len(nums1) and j < len(nums2):\n",
    "            if nums1[i] < nums2[j]:\n",
    "                merged.append(nums1[i]); i += 1\n",
    "            else:\n",
    "                merged.append(nums2[j]); j += 1\n",
    "        while i < len(nums1):\n",
    "            merged.append(nums1[i]); i += 1\n",
    "        while j < len(nums2):\n",
    "            merged.append(nums2[j]); j += 1\n",
    "        n = len(merged)\n",
    "        mid = n // 2\n",
    "        if n % 2 == 0:\n",
    "            return (merged[mid-1] + merged[mid]) / 2.0\n",
    "        else:\n",
    "            return float(merged[mid])\n",
    "\n",
    "def findMedianSortedArrays(nums1, nums2):\n",
    "    # top-level wrapper so the service can call this function name\n",
    "    return Solution().findMedianSortedArrays(nums1, nums2)\n",
    "\"\"\"\n",
    "\n"
   ]
  },
  {
   "cell_type": "code",
   "execution_count": 63,
   "id": "8fb26a0b",
   "metadata": {},
   "outputs": [],
   "source": [
    "candidate_optimal = \"\"\"\\\n",
    "def findMedianSortedArrays(nums1, nums2):\n",
    "    A, B = nums1, nums2\n",
    "    m, n = len(A), len(B)\n",
    "    if m > n:\n",
    "        A, B, m, n = B, A, n, m\n",
    "    total = m + n\n",
    "    half = total // 2\n",
    "\n",
    "    lo, hi = 0, m\n",
    "    while lo <= hi:\n",
    "        i = (lo + hi) // 2\n",
    "        j = half - i\n",
    "\n",
    "        Aleft = A[i-1] if i > 0 else float('-inf')\n",
    "        Aright = A[i] if i < m else float('inf')\n",
    "        Bleft = B[j-1] if j > 0 else float('-inf')\n",
    "        Bright = B[j] if j < n else float('inf')\n",
    "\n",
    "        if Aleft <= Bright and Bleft <= Aright:\n",
    "            if total % 2:\n",
    "                return float(min(Aright, Bright))\n",
    "            return (max(Aleft, Bleft) + min(Aright, Bright)) / 2.0\n",
    "        elif Aleft > Bright:\n",
    "            hi = i - 1\n",
    "        else:\n",
    "            lo = i + 1\n",
    "\n",
    "    raise ValueError(\"Invalid input\")\n",
    "\"\"\"\n"
   ]
  },
  {
   "cell_type": "code",
   "execution_count": 65,
   "id": "ae9bf80b",
   "metadata": {},
   "outputs": [],
   "source": [
    "cases = [\n",
    "    ([20, 67], [37, 85], 52.0),\n",
    "    ([1, 2, 13, 22, 34, 46, 63, 86], [59, 80], 40.0),\n",
    "    ([8, 57, 82, 87], [8, 18, 20, 23, 40, 41, 54, 63, 72, 93], 47.5),\n",
    "    ([3, 36, 78], [13, 20, 28, 45, 59, 89], 36.0),\n",
    "    ([17, 34, 43, 48, 51, 53, 83, 88], [43, 48, 54, 78, 88], 51.0),\n",
    "    ([21, 28, 53, 63, 94], [6, 9, 25, 27, 31, 55, 60, 67, 78], 42.0),\n",
    "    ([17, 50, 54], [1, 20, 46, 52, 53, 62, 63, 66, 70], 52.5),\n",
    "    ([11, 13, 15, 27, 29, 55, 74, 89, 96], [9, 39, 72], 34.0),\n",
    "    ([21, 24, 26, 33, 50, 53, 68, 87, 100], [1, 6, 12, 14, 34, 64, 81, 92, 93], 42.0),\n",
    "    ([12, 29, 31, 38, 45, 47, 73, 76, 89, 92], [2, 22, 57, 85], 46.0),\n",
    "]\n",
    "\n",
    "def make_tests(cases):\n",
    "    return [\n",
    "        {\n",
    "            \"test_id\": f\"m-{i}\",\n",
    "            \"inputs\": [a, b],           # two positional args\n",
    "            \"expected_output\": exp\n",
    "        }\n",
    "        for i, (a, b, exp) in enumerate(cases, 1)\n",
    "    ]\n",
    "\n",
    "tests = make_tests(cases)\n"
   ]
  },
  {
   "cell_type": "code",
   "execution_count": 66,
   "id": "302d73ec",
   "metadata": {},
   "outputs": [],
   "source": [
    "import requests, time\n",
    "from pprint import pprint\n",
    "\n",
    "BASE_URL = \"http://127.0.0.1:8000\"\n",
    "MEASURE_URL = f\"{BASE_URL}/api/v1/measure\"\n",
    "TASK_URL = f\"{BASE_URL}/api/v1/tasks\"\n",
    "\n",
    "def get_task(task_id: str):\n",
    "    r = requests.get(f\"{TASK_URL}/{task_id}\", timeout=30)\n",
    "    r.raise_for_status()\n",
    "    return r.json()\n",
    "\n",
    "def is_done(resp: dict) -> bool:\n",
    "    return resp.get(\"status\") in {\"completed\", \"failed\"}\n",
    "\n",
    "def queue_job(code: str, tests: list, timeout=15, trials=1, warmup=0, mem_mb=1024):\n",
    "    payload = {\n",
    "        \"candidate_code\": code,\n",
    "        \"function_name\": \"findMedianSortedArrays\",\n",
    "        \"test_cases\": tests,\n",
    "        \"timeout_seconds\": timeout,\n",
    "        \"memory_limit_mb\": mem_mb,\n",
    "        \"energy_measurement_trials\": trials,\n",
    "        \"warmup_trials\": warmup,\n",
    "    }\n",
    "    r = requests.post(MEASURE_URL, json=payload, timeout=60)\n",
    "    r.raise_for_status()\n",
    "    return r.json()\n"
   ]
  },
  {
   "cell_type": "code",
   "execution_count": 69,
   "id": "004f93f5",
   "metadata": {},
   "outputs": [
    {
     "name": "stdout",
     "output_type": "stream",
     "text": [
      "{'optimal': '761a98e2-5af1-43b1-8718-48e67dc1eeac',\n",
      " 'slow_class': 'fbcdca93-12c5-4ccc-ad40-cf59139d04a7'}\n",
      "slow_class: failed\n",
      "optimal: running\n",
      "optimal: completed\n",
      "\n",
      "Done:\n",
      "{'optimal': 'completed', 'slow_class': 'failed'}\n"
     ]
    }
   ],
   "source": [
    "jobs = {\n",
    "    \"slow_class\": queue_job(candidate_slow_class, tests_moderate, timeout=15, trials=3, warmup=1),\n",
    "    \"optimal\":    queue_job(candidate_optimal,    tests_moderate, timeout=15, trials=3, warmup=1),\n",
    "}\n",
    "pprint({k: v[\"task_id\"] for k, v in jobs.items()})\n",
    "\n",
    "results = {}\n",
    "while set(results) != set(jobs):\n",
    "    for name, q in jobs.items():\n",
    "        if name in results: \n",
    "            continue\n",
    "        resp = get_task(q[\"task_id\"])\n",
    "        print(f\"{name}: {resp.get('status')}\")\n",
    "        if is_done(resp):\n",
    "            results[name] = resp\n",
    "    if set(results) != set(jobs):\n",
    "        time.sleep(1.0)\n",
    "\n",
    "print(\"\\nDone:\")\n",
    "pprint({k: v.get(\"status\") for k, v in results.items()})\n"
   ]
  },
  {
   "cell_type": "code",
   "execution_count": 71,
   "id": "02e9248c",
   "metadata": {},
   "outputs": [
    {
     "name": "stdout",
     "output_type": "stream",
     "text": [
      "{'optimal': {'median_pkg_J': 8.5e-10,\n",
      "             'median_ram_J': 9e-11,\n",
      "             'median_time_s': 1.8553999325376935e-05,\n",
      "             'median_total_J': 9.4e-10,\n",
      "             'power_W': 5.066293166855569e-05,\n",
      "             'status': 'completed'},\n",
      " 'slow_class': {'error_message': 'Energy measurement failed',\n",
      "                'error_type': 'incorrect_solution',\n",
      "                'status': 'failed'}}\n",
      "Winner: inconclusive\n"
     ]
    }
   ],
   "source": [
    "def energy_row(resp: dict):\n",
    "    em = resp.get(\"energy_metrics\") or {}\n",
    "    return {\n",
    "        \"median_pkg_J\": em.get(\"median_package_energy_joules\"),\n",
    "        \"median_ram_J\": em.get(\"median_ram_energy_joules\"),\n",
    "        \"median_total_J\": em.get(\"median_total_energy_joules\"),\n",
    "        \"median_time_s\": em.get(\"median_execution_time_seconds\"),\n",
    "        \"power_W\": em.get(\"power_consumption_watts\"),\n",
    "    }\n",
    "\n",
    "rows = {}\n",
    "for name, resp in results.items():\n",
    "    if resp.get(\"status\") == \"completed\":\n",
    "        rows[name] = {\"status\": \"completed\", **energy_row(resp)}\n",
    "    else:\n",
    "        rows[name] = {\"status\": resp.get(\"status\"),\n",
    "                      \"error_type\": resp.get(\"error_type\"),\n",
    "                      \"error_message\": resp.get(\"error_message\")}\n",
    "pprint(rows)\n",
    "\n",
    "# Simple winner by energy (lower is better), then time\n",
    "def pick_winner(rows):\n",
    "    a, b = rows.get(\"brute\"), rows.get(\"optimal\")\n",
    "    if not a or not b or a.get(\"status\") != \"completed\" or b.get(\"status\") != \"completed\":\n",
    "        return \"inconclusive\"\n",
    "    Ea, Eb = a[\"median_total_J\"], b[\"median_total_J\"]\n",
    "    Ta, Tb = a[\"median_time_s\"], b[\"median_time_s\"]\n",
    "    if Ea is None or Eb is None:\n",
    "        return \"inconclusive\"\n",
    "    if abs(Ea - Eb) > 0:  # prefer lower energy\n",
    "        return \"brute\" if Ea < Eb else \"optimal\"\n",
    "    if Ta is not None and Tb is not None:\n",
    "        return \"brute\" if Ta < Tb else \"optimal\"\n",
    "    return \"inconclusive\"\n",
    "\n",
    "print(\"Winner:\", pick_winner(rows))\n"
   ]
  },
  {
   "cell_type": "code",
   "execution_count": 72,
   "id": "798bdb0e",
   "metadata": {},
   "outputs": [],
   "source": [
    "import random\n",
    "\n",
    "def make_sorted_array(n, low=0, high=10**6, seed=None):\n",
    "    rng = random.Random(seed)\n",
    "    arr = [rng.randint(low, high) for _ in range(n)]\n",
    "    arr.sort()\n",
    "    return arr\n",
    "\n",
    "def median_two_sorted(a, b):\n",
    "    # O(m+n) single pass to the median position\n",
    "    m, n = len(a), len(b)\n",
    "    total = m + n\n",
    "    i = j = 0\n",
    "    prev = curr = None\n",
    "    target = total // 2\n",
    "    for k in range(target + 1):\n",
    "        prev = curr\n",
    "        if i < m and (j >= n or a[i] <= b[j]):\n",
    "            curr = a[i]; i += 1\n",
    "        else:\n",
    "            curr = b[j]; j += 1\n",
    "    if total % 2:\n",
    "        return float(curr)\n",
    "    return (prev + curr) / 2.0\n"
   ]
  },
  {
   "cell_type": "code",
   "execution_count": 73,
   "id": "08fbed5d",
   "metadata": {},
   "outputs": [
    {
     "data": {
      "text/plain": [
       "(2, ['heavy-1', 'heavy-2'])"
      ]
     },
     "execution_count": 73,
     "metadata": {},
     "output_type": "execute_result"
    }
   ],
   "source": [
    "# Choose larger sizes; keep it to 1–2 cases for runtime\n",
    "sizes = [(50_000, 50_000), (100_000, 50_000)]  # (len(nums1), len(nums2))\n",
    "\n",
    "heavy_cases = []\n",
    "for idx, (n1, n2) in enumerate(sizes, 1):\n",
    "    a = make_sorted_array(n1, seed=10_000 + idx)\n",
    "    b = make_sorted_array(n2, seed=20_000 + idx)\n",
    "    exp = median_two_sorted(a, b)\n",
    "    heavy_cases.append((a, b, exp))\n",
    "\n",
    "def make_tests_from_cases(cases):\n",
    "    return [\n",
    "        {\"test_id\": f\"heavy-{i}\", \"inputs\": [a, b], \"expected_output\": exp}\n",
    "        for i, (a, b, exp) in enumerate(cases, 1)\n",
    "    ]\n",
    "\n",
    "heavy_tests = make_tests_from_cases(heavy_cases)\n",
    "len(heavy_tests), [t[\"test_id\"] for t in heavy_tests]\n"
   ]
  },
  {
   "cell_type": "code",
   "execution_count": 74,
   "id": "898fa4ef",
   "metadata": {},
   "outputs": [
    {
     "data": {
      "text/plain": [
       "{'brute_heavy': 'eb4f96b6-6873-40af-9c4e-924459cc24c4',\n",
       " 'optimal_heavy': 'bf43823a-1b8b-43f4-9bb8-b984c36229a0'}"
      ]
     },
     "execution_count": 74,
     "metadata": {},
     "output_type": "execute_result"
    }
   ],
   "source": [
    "def queue_median_job(code: str, tests: list, trials=1, warmup=0, timeout=120, mem_mb=2048):\n",
    "    payload = {\n",
    "        \"candidate_code\": code,\n",
    "        \"function_name\": \"findMedianSortedArrays\",\n",
    "        \"test_cases\": tests,\n",
    "        \"timeout_seconds\": timeout,        # per-test validation budget\n",
    "        \"memory_limit_mb\": mem_mb,         # per-test memory budget\n",
    "        \"energy_measurement_trials\": trials,\n",
    "        \"warmup_trials\": warmup,\n",
    "    }\n",
    "    r = requests.post(MEASURE_URL, json=payload, timeout=60)\n",
    "    r.raise_for_status()\n",
    "    return r.json()\n",
    "\n",
    "jobs_heavy = {\n",
    "    \"brute_heavy\": queue_median_job(candidate_bruteforce, heavy_tests, trials=1, warmup=0, timeout=180, mem_mb=4096),\n",
    "    \"optimal_heavy\": queue_median_job(candidate_optimal, heavy_tests, trials=1, warmup=0, timeout=180, mem_mb=4096),\n",
    "}\n",
    "{ k: v[\"task_id\"] for k, v in jobs_heavy.items() }\n"
   ]
  },
  {
   "cell_type": "code",
   "execution_count": 75,
   "id": "9a397eb3",
   "metadata": {},
   "outputs": [
    {
     "name": "stdout",
     "output_type": "stream",
     "text": [
      "brute_heavy: completed\n",
      "optimal_heavy: completed\n",
      "\n",
      "Done:\n",
      "{'brute_heavy': 'completed', 'optimal_heavy': 'completed'}\n"
     ]
    }
   ],
   "source": [
    "results_heavy = {}\n",
    "start = time.time()\n",
    "while set(results_heavy) != set(jobs_heavy):\n",
    "    for name, q in jobs_heavy.items():\n",
    "        if name in results_heavy:\n",
    "            continue\n",
    "        resp = get_task(q[\"task_id\"])\n",
    "        print(f\"{name}: {resp.get('status')}\")\n",
    "        if is_done(resp):\n",
    "            results_heavy[name] = resp\n",
    "    if set(results_heavy) != set(jobs_heavy):\n",
    "        time.sleep(2.0)\n",
    "\n",
    "print(\"\\nDone:\")\n",
    "pprint({k: v.get(\"status\") for k, v in results_heavy.items()})\n"
   ]
  },
  {
   "cell_type": "code",
   "execution_count": 76,
   "id": "562062c0",
   "metadata": {},
   "outputs": [
    {
     "name": "stdout",
     "output_type": "stream",
     "text": [
      "{'brute_heavy': {'median_pkg_J': 2.327e-08,\n",
      "                 'median_ram_J': 1.8200000000000001e-09,\n",
      "                 'median_time_s': 0.00959544699981052,\n",
      "                 'median_total_J': 2.509e-08,\n",
      "                 'power_W': 2.6147817814527504e-06,\n",
      "                 'status': 'completed'},\n",
      " 'optimal_heavy': {'median_pkg_J': 2.225e-08,\n",
      "                   'median_ram_J': 1.72e-09,\n",
      "                   'median_time_s': 3.046400161110796e-05,\n",
      "                   'median_total_J': 2.3970000000000002e-08,\n",
      "                   'power_W': 0.000786830315530837,\n",
      "                   'status': 'completed'}}\n",
      "Winner (heavy): optimal_heavy\n"
     ]
    }
   ],
   "source": [
    "def energy_row(resp: dict):\n",
    "    em = resp.get(\"energy_metrics\") or {}\n",
    "    return {\n",
    "        \"median_pkg_J\": em.get(\"median_package_energy_joules\"),\n",
    "        \"median_ram_J\": em.get(\"median_ram_energy_joules\"),\n",
    "        \"median_total_J\": em.get(\"median_total_energy_joules\"),\n",
    "        \"median_time_s\": em.get(\"median_execution_time_seconds\"),\n",
    "        \"power_W\": em.get(\"power_consumption_watts\"),\n",
    "    }\n",
    "\n",
    "rows_heavy = {}\n",
    "for name, resp in results_heavy.items():\n",
    "    if resp.get(\"status\") == \"completed\":\n",
    "        rows_heavy[name] = {\"status\": \"completed\", **energy_row(resp)}\n",
    "    else:\n",
    "        rows_heavy[name] = {\"status\": resp.get(\"status\"),\n",
    "                            \"error_type\": resp.get(\"error_type\"),\n",
    "                            \"error_message\": resp.get(\"error_message\")}\n",
    "pprint(rows_heavy)\n",
    "\n",
    "def pick_winner(rows):\n",
    "    a, b = rows.get(\"brute_heavy\"), rows.get(\"optimal_heavy\")\n",
    "    if not a or not b or a.get(\"status\") != \"completed\" or b.get(\"status\") != \"completed\":\n",
    "        return \"inconclusive\"\n",
    "    Ea, Eb = a[\"median_total_J\"], b[\"median_total_J\"]\n",
    "    Ta, Tb = a[\"median_time_s\"], b[\"median_time_s\"]\n",
    "    if Ea is None or Eb is None: return \"inconclusive\"\n",
    "    if abs(Ea - Eb) > 0: return \"brute_heavy\" if Ea < Eb else \"optimal_heavy\"\n",
    "    if Ta is not None and Tb is not None: return \"brute_heavy\" if Ta < Tb else \"optimal_heavy\"\n",
    "    return \"inconclusive\"\n",
    "\n",
    "print(\"Winner (heavy):\", pick_winner(rows_heavy))\n"
   ]
  },
  {
   "cell_type": "code",
   "execution_count": null,
   "id": "a846bd94",
   "metadata": {},
   "outputs": [],
   "source": []
  },
  {
   "cell_type": "markdown",
   "id": "73e1135a",
   "metadata": {},
   "source": [
    "# Stress"
   ]
  },
  {
   "cell_type": "code",
   "execution_count": 85,
   "id": "13f57ab3",
   "metadata": {},
   "outputs": [],
   "source": [
    "import time\n",
    "import random\n",
    "import statistics as stats\n",
    "import requests\n",
    "from concurrent.futures import ThreadPoolExecutor, as_completed\n",
    "from pprint import pprint\n",
    "\n",
    "BASE_URL = \"http://127.0.0.1:8000\"\n",
    "MEASURE_URL = f\"{BASE_URL}/api/v1/measure\"\n",
    "TASK_URL = f\"{BASE_URL}/api/v1/tasks\"\n",
    "\n",
    "# Stress parameters\n",
    "NUM_TASKS = 1000            # total tasks to queue\n",
    "QUEUE_CONCURRENCY = 30     # parallel POSTs to API\n",
    "POLL_CONCURRENCY = 30      # parallel polls\n",
    "VALIDATION_TIMEOUT = 20    # per-test validation seconds\n",
    "MEMORY_LIMIT_MB = 1024\n",
    "TRIALS = 1                 # keep low for speed\n",
    "WARMUP = 0\n"
   ]
  },
  {
   "cell_type": "code",
   "execution_count": 86,
   "id": "9d0fc18c",
   "metadata": {},
   "outputs": [],
   "source": [
    "# A tiny CPU-bound workload with deterministic output\n",
    "candidate_code = \"\"\"\\\n",
    "def solve(n):\n",
    "    s = 0\n",
    "    for i in range(n):\n",
    "        s = (s * 1664525 + 1013904223) & 0xFFFFFFFF\n",
    "        s ^= i\n",
    "    return int(s % 1000)\n",
    "\"\"\"\n",
    "\n",
    "def local_expected(n: int) -> int:\n",
    "    s = 0\n",
    "    for i in range(n):\n",
    "        s = (s * 1664525 + 1013904223) & 0xFFFFFFFF\n",
    "        s ^= i\n",
    "    return int(s % 1000)\n"
   ]
  },
  {
   "cell_type": "code",
   "execution_count": 87,
   "id": "dcf2a364",
   "metadata": {},
   "outputs": [
    {
     "data": {
      "text/plain": [
       "1000"
      ]
     },
     "execution_count": 87,
     "metadata": {},
     "output_type": "execute_result"
    }
   ],
   "source": [
    "# Each task uses two tests with different n so there’s a little work\n",
    "def make_task_tests(n1: int, n2: int):\n",
    "    return [\n",
    "        {\"test_id\": f\"n1-{n1}\", \"inputs\": [n1], \"expected_output\": local_expected(n1)},\n",
    "        {\"test_id\": f\"n2-{n2}\", \"inputs\": [n2], \"expected_output\": local_expected(n2)},\n",
    "    ]\n",
    "\n",
    "# Generate random ns sized to finish well under VALIDATION_TIMEOUT\n",
    "rng = random.Random(42)\n",
    "pairs = [(rng.randint(50_000, 120_000), rng.randint(50_000, 120_000)) for _ in range(NUM_TASKS)]\n",
    "work = [make_task_tests(a, b) for (a, b) in pairs]\n",
    "len(work)\n"
   ]
  },
  {
   "cell_type": "code",
   "execution_count": 88,
   "id": "d9cbf3c9",
   "metadata": {},
   "outputs": [],
   "source": [
    "def queue_one(tests):\n",
    "    payload = {\n",
    "        \"candidate_code\": candidate_code,\n",
    "        \"function_name\": \"solve\",\n",
    "        \"test_cases\": tests,\n",
    "        \"timeout_seconds\": VALIDATION_TIMEOUT,\n",
    "        \"memory_limit_mb\": MEMORY_LIMIT_MB,\n",
    "        \"energy_measurement_trials\": TRIALS,\n",
    "        \"warmup_trials\": WARMUP,\n",
    "    }\n",
    "    t0 = time.time()\n",
    "    r = requests.post(MEASURE_URL, json=payload, timeout=60)\n",
    "    r.raise_for_status()\n",
    "    task_id = r.json()[\"task_id\"]\n",
    "    return {\"task_id\": task_id, \"enqueued_at\": t0}\n",
    "\n",
    "def poll_one(task_id):\n",
    "    while True:\n",
    "        r = requests.get(f\"{TASK_URL}/{task_id}\", timeout=60)\n",
    "        if r.status_code != 200:\n",
    "            time.sleep(0.5); continue\n",
    "        resp = r.json()\n",
    "        status = resp.get(\"status\")\n",
    "        if status in {\"completed\", \"failed\"}:\n",
    "            return {\"task_id\": task_id, \"status\": status, \"resp\": resp, \"done_at\": time.time()}\n",
    "        time.sleep(0.5)\n"
   ]
  },
  {
   "cell_type": "code",
   "execution_count": 89,
   "id": "0db9ebd2",
   "metadata": {},
   "outputs": [
    {
     "name": "stdout",
     "output_type": "stream",
     "text": [
      "Queued 1000/1000 tasks in 4.03s\n"
     ]
    }
   ],
   "source": [
    "t_start = time.time()\n",
    "queued = []\n",
    "\n",
    "with ThreadPoolExecutor(max_workers=QUEUE_CONCURRENCY) as ex:\n",
    "    futures = [ex.submit(queue_one, tests) for tests in work]\n",
    "    for fut in as_completed(futures):\n",
    "        try:\n",
    "            queued.append(fut.result())\n",
    "        except Exception as e:\n",
    "            print(\"queue error:\", e)\n",
    "\n",
    "print(f\"Queued {len(queued)}/{NUM_TASKS} tasks in {time.time()-t_start:.2f}s\")\n"
   ]
  },
  {
   "cell_type": "code",
   "execution_count": 90,
   "id": "4b86d55a",
   "metadata": {},
   "outputs": [
    {
     "name": "stdout",
     "output_type": "stream",
     "text": [
      "Polled 1000/1000 to completion in 36.97s (total 46.55s)\n"
     ]
    }
   ],
   "source": [
    "poll_start = time.time()\n",
    "results = []\n",
    "\n",
    "with ThreadPoolExecutor(max_workers=POLL_CONCURRENCY) as ex:\n",
    "    futures = [ex.submit(poll_one, q[\"task_id\"]) for q in queued]\n",
    "    for fut in as_completed(futures):\n",
    "        try:\n",
    "            results.append(fut.result())\n",
    "        except Exception as e:\n",
    "            print(\"poll error:\", e)\n",
    "\n",
    "total_time = time.time() - t_start\n",
    "print(f\"Polled {len(results)}/{len(queued)} to completion in {time.time()-poll_start:.2f}s (total {total_time:.2f}s)\")\n"
   ]
  },
  {
   "cell_type": "code",
   "execution_count": 91,
   "id": "2cde97f8",
   "metadata": {},
   "outputs": [
    {
     "name": "stdout",
     "output_type": "stream",
     "text": [
      "{'completed': 1000,\n",
      " 'failed': 0,\n",
      " 'lat_p50_s': 20.387210607528687,\n",
      " 'lat_p95_s': 38.97353911399841,\n",
      " 'success_rate_%': 100.0,\n",
      " 'throughput_tasks_per_s': 21.48347870944626,\n",
      " 'total_tasks': 1000}\n"
     ]
    }
   ],
   "source": [
    "# Join enqueued_at to compute end-to-end latency\n",
    "enq_map = {q[\"task_id\"]: q[\"enqueued_at\"] for q in queued}\n",
    "for r in results:\n",
    "    r[\"latency_s\"] = r[\"done_at\"] - enq_map.get(r[\"task_id\"], r[\"done_at\"])\n",
    "\n",
    "completed = [r for r in results if r[\"status\"] == \"completed\"]\n",
    "failed = [r for r in results if r[\"status\"] == \"failed\"]\n",
    "\n",
    "lat_all = [r[\"latency_s\"] for r in results]\n",
    "summary = {\n",
    "    \"total_tasks\": len(queued),\n",
    "    \"completed\": len(completed),\n",
    "    \"failed\": len(failed),\n",
    "    \"success_rate_%\": 100.0 * len(completed)/len(queued) if queued else 0.0,\n",
    "    \"lat_p50_s\": (stats.median(lat_all) if lat_all else None),\n",
    "    \"lat_p95_s\": (sorted(lat_all)[int(0.95*len(lat_all))-1] if lat_all else None),\n",
    "    \"throughput_tasks_per_s\": (len(results)/ (max(total_time, 1e-6))),\n",
    "}\n",
    "pprint(summary)\n"
   ]
  },
  {
   "cell_type": "code",
   "execution_count": 92,
   "id": "60d812e0",
   "metadata": {},
   "outputs": [
    {
     "name": "stdout",
     "output_type": "stream",
     "text": [
      "{'E_total_median_J': 3.899999999999999e-09,\n",
      " 'P_median_W': 1.4927716063548747e-07,\n",
      " 'T_median_s': 0.02613814599953912,\n",
      " 'samples': 1000}\n"
     ]
    }
   ],
   "source": [
    "def take_energy(resp):\n",
    "    em = (resp or {}).get(\"energy_metrics\") or {}\n",
    "    return (\n",
    "        em.get(\"median_total_energy_joules\"),\n",
    "        em.get(\"median_execution_time_seconds\"),\n",
    "        em.get(\"power_consumption_watts\"),\n",
    "    )\n",
    "\n",
    "Es, Ts, Ps = [], [], []\n",
    "for r in completed:\n",
    "    E, T, P = take_energy(r[\"resp\"])\n",
    "    if E is not None: Es.append(E)\n",
    "    if T is not None: Ts.append(T)\n",
    "    if P is not None: Ps.append(P)\n",
    "\n",
    "energy_summary = {\n",
    "    \"E_total_median_J\": (stats.median(Es) if Es else None),\n",
    "    \"T_median_s\": (stats.median(Ts) if Ts else None),\n",
    "    \"P_median_W\": (stats.median(Ps) if Ps else None),\n",
    "    \"samples\": len(Es),\n",
    "}\n",
    "pprint(energy_summary)\n"
   ]
  },
  {
   "cell_type": "code",
   "execution_count": null,
   "id": "52c970bc",
   "metadata": {},
   "outputs": [],
   "source": []
  }
 ],
 "metadata": {
  "kernelspec": {
   "display_name": "greenllm",
   "language": "python",
   "name": "python3"
  },
  "language_info": {
   "codemirror_mode": {
    "name": "ipython",
    "version": 3
   },
   "file_extension": ".py",
   "mimetype": "text/x-python",
   "name": "python",
   "nbconvert_exporter": "python",
   "pygments_lexer": "ipython3",
   "version": "3.10.18"
  }
 },
 "nbformat": 4,
 "nbformat_minor": 5
}
